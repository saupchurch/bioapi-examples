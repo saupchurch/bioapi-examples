{
 "cells": [
  {
   "cell_type": "markdown",
   "metadata": {},
   "source": [
    "## GA4GH RNA Quantification API Example\n",
    "This example illustrates the methods used to access the `rna_quantification_service`."
   ]
  },
  {
   "cell_type": "markdown",
   "metadata": {},
   "source": [
    "### Initialize client \n",
    "In this step we create a client object which will be used to communicate with the server."
   ]
  },
  {
   "cell_type": "code",
   "execution_count": 1,
   "metadata": {
    "collapsed": false
   },
   "outputs": [],
   "source": [
    "import ga4gh_client.client as client\n",
    "c = client.HttpClient(\"http://1kgenomes.ga4gh.org\")"
   ]
  },
  {
   "cell_type": "markdown",
   "metadata": {},
   "source": [
    "### Search RNA Quantification Sets Method\n",
    "This instance returns a list of RNA quantification sets in a dataset.  RNA quantification sets are a way to associate a group of related RNA quantifications.  Note that we use the `dataset_id` obtained from the `1kg_metadata_service` notebook."
   ]
  },
  {
   "cell_type": "code",
   "execution_count": 3,
   "metadata": {
    "collapsed": false
   },
   "outputs": [
    {
     "name": "stdout",
     "output_type": "stream",
     "text": [
      " id: WyIxa2dlbm9tZXMiLCJFLUdFVVYtMSAxMDAwIEdlbm9tZXMgUk5BIFF1YW50aWZpY2F0aW9uIl0\n",
      " dataset_id: WyIxa2dlbm9tZXMiXQ\n",
      " name: E-GEUV-1 1000 Genomes RNA Quantification\n",
      "\n"
     ]
    }
   ],
   "source": [
    "counter = 0\n",
    "dataset_id = c.search_datasets().next().id\n",
    "for rna_quant_set in c.search_rna_quantification_sets(dataset_id=dataset_id):\n",
    "    if counter > 5:\n",
    "        break\n",
    "    counter += 1\n",
    "    rna_quantification_set_id = rna_quant_set.id\n",
    "    print(\" id: {}\".format(rna_quant_set.id))\n",
    "    print(\" dataset_id: {}\".format(rna_quant_set.dataset_id))\n",
    "    print(\" name: {}\\n\".format(rna_quant_set.name))"
   ]
  },
  {
   "cell_type": "markdown",
   "metadata": {},
   "source": [
    "### Get RNA Quantification Set by id method\n",
    "This method obtains an single RNA quantification set by it's unique identifier. This `id` was chosen arbitrarily from the returned results."
   ]
  },
  {
   "cell_type": "code",
   "execution_count": 4,
   "metadata": {
    "collapsed": false
   },
   "outputs": [
    {
     "name": "stdout",
     "output_type": "stream",
     "text": [
      " name: E-GEUV-1 1000 Genomes RNA Quantification\n",
      "\n"
     ]
    }
   ],
   "source": [
    "single_rna_quant_set = c.get_rna_quantification_set(\n",
    "    rna_quantification_set_id=rna_quantification_set_id)\n",
    "print(\" name: {}\\n\".format(single_rna_quant_set.name))"
   ]
  },
  {
   "cell_type": "markdown",
   "metadata": {},
   "source": [
    "### Search RNA Quantifications\n",
    "We can list all of the RNA quantifications in an RNA quantification set.  The `rna_quantification_set_id` was chosen arbitrarily from the returned results."
   ]
  },
  {
   "cell_type": "code",
   "execution_count": 5,
   "metadata": {
    "collapsed": false
   },
   "outputs": [
    {
     "name": "stdout",
     "output_type": "stream",
     "text": [
      "RNA Quantification: HG00104\n",
      " id: WyIxa2dlbm9tZXMiLCJFLUdFVVYtMSAxMDAwIEdlbm9tZXMgUk5BIFF1YW50aWZpY2F0aW9uIiwiSEcwMDEwNCJd\n",
      " description: RNA seq data from lymphoblastoid cell lines in the 1000 Genome Project, http://www.ebi.ac.uk/arrayexpress/experiments/E-GEUV-1/samples/\n",
      "\n",
      "RNA Quantification: HG00103\n",
      " id: WyIxa2dlbm9tZXMiLCJFLUdFVVYtMSAxMDAwIEdlbm9tZXMgUk5BIFF1YW50aWZpY2F0aW9uIiwiSEcwMDEwMyJd\n",
      " description: RNA seq data from lymphoblastoid cell lines in the 1000 Genome Project, http://www.ebi.ac.uk/arrayexpress/experiments/E-GEUV-1/samples/\n",
      "\n",
      "RNA Quantification: HG00102\n",
      " id: WyIxa2dlbm9tZXMiLCJFLUdFVVYtMSAxMDAwIEdlbm9tZXMgUk5BIFF1YW50aWZpY2F0aW9uIiwiSEcwMDEwMiJd\n",
      " description: RNA seq data from lymphoblastoid cell lines in the 1000 Genome Project, http://www.ebi.ac.uk/arrayexpress/experiments/E-GEUV-1/samples/\n",
      "\n",
      "RNA Quantification: HG00101\n",
      " id: WyIxa2dlbm9tZXMiLCJFLUdFVVYtMSAxMDAwIEdlbm9tZXMgUk5BIFF1YW50aWZpY2F0aW9uIiwiSEcwMDEwMSJd\n",
      " description: RNA seq data from lymphoblastoid cell lines in the 1000 Genome Project, http://www.ebi.ac.uk/arrayexpress/experiments/E-GEUV-1/samples/\n",
      "\n",
      "RNA Quantification: HG00100\n",
      " id: WyIxa2dlbm9tZXMiLCJFLUdFVVYtMSAxMDAwIEdlbm9tZXMgUk5BIFF1YW50aWZpY2F0aW9uIiwiSEcwMDEwMCJd\n",
      " description: RNA seq data from lymphoblastoid cell lines in the 1000 Genome Project, http://www.ebi.ac.uk/arrayexpress/experiments/E-GEUV-1/samples/\n",
      "\n",
      "RNA Quantification: HG00099\n",
      " id: WyIxa2dlbm9tZXMiLCJFLUdFVVYtMSAxMDAwIEdlbm9tZXMgUk5BIFF1YW50aWZpY2F0aW9uIiwiSEcwMDA5OSJd\n",
      " description: RNA seq data from lymphoblastoid cell lines in the 1000 Genome Project, http://www.ebi.ac.uk/arrayexpress/experiments/E-GEUV-1/samples/\n",
      "\n"
     ]
    }
   ],
   "source": [
    "counter = 0\n",
    "rna_quantification_ids = []\n",
    "for rna_quant in c.search_rna_quantifications(\n",
    "        rna_quantification_set_id=rna_quantification_set_id):\n",
    "    if counter > 5:\n",
    "        break\n",
    "    counter += 1\n",
    "    rna_quantification_ids.append(rna_quant.id)\n",
    "    print(\"RNA Quantification: {}\".format(rna_quant.name))\n",
    "    print(\" id: {}\".format(rna_quant.id))\n",
    "    print(\" description: {}\\n\".format(rna_quant.description))"
   ]
  },
  {
   "cell_type": "markdown",
   "metadata": {},
   "source": [
    "### Get RNA Quantification by Id\n",
    "Similar to RNA quantification sets, we can retrieve a single RNA quantification by specific id.  This `id` was chosen arbitrarily from the returned results.\n",
    "\n",
    "The RNA quantification reported contains details of the processing pipeline which include the source of the reads as well as the annotations used. "
   ]
  },
  {
   "cell_type": "code",
   "execution_count": 7,
   "metadata": {
    "collapsed": false
   },
   "outputs": [
    {
     "name": "stdout",
     "output_type": "stream",
     "text": [
      " name: HG00104\n",
      " read_ids: []\n",
      " annotations: [u'WyIxa2dlbm9tZXMiLCJnZW5jb2RlX3YyNGxpZnQzNyJd']\n",
      "\n"
     ]
    }
   ],
   "source": [
    "single_rna_quant = c.get_rna_quantification(\n",
    "    rna_quantification_id=rna_quantification_ids[0])\n",
    "print(\" name: {}\".format(single_rna_quant.name))\n",
    "print(\" read_ids: {}\".format(single_rna_quant.read_group_ids))\n",
    "print(\" annotations: {}\\n\".format(single_rna_quant.feature_set_ids))"
   ]
  },
  {
   "cell_type": "markdown",
   "metadata": {},
   "source": [
    "### Search Expression Levels\n",
    "The feature level expression data for each RNA quantification is reported as a set of Expression Levels.  The `rna_quantification_service` makes it easy to search for these."
   ]
  },
  {
   "cell_type": "code",
   "execution_count": 8,
   "metadata": {
    "collapsed": false
   },
   "outputs": [
    {
     "name": "stdout",
     "output_type": "stream",
     "text": [
      "Expression Level: ENST00000619216.1\n",
      " id: WyIxa2dlbm9tZXMiLCJFLUdFVVYtMSAxMDAwIEdlbm9tZXMgUk5BIFF1YW50aWZpY2F0aW9uIiwiSEcwMDEwNCIsIjMyMTVmN2Q4LTUzZGQtNGQ1NS04MjE1LWRmZTkzMDJhMGQwYiJd\n",
      " feature: \n",
      " expression: 3.17871 TPM\n",
      " read_count: 1.5\n",
      " confidence_interval: 0.0 - 0.0\n",
      "\n",
      "Expression Level: ENST00000469289.1\n",
      " id: WyIxa2dlbm9tZXMiLCJFLUdFVVYtMSAxMDAwIEdlbm9tZXMgUk5BIFF1YW50aWZpY2F0aW9uIiwiSEcwMDEwNCIsIjVhMGQ2ODhiLTQzMjAtNGNiMy1iZDc5LTQ3OTBiZDYyOTVlOCJd\n",
      " feature: WyIxa2dlbm9tZXMiLCJnZW5jb2RlX3YyNGxpZnQzNyIsIjE0MDUwOTE3MjE5NzkwNCJd\n",
      " expression: 0.161336 TPM\n",
      " read_count: 1.13687\n",
      " confidence_interval: 0.0 - 0.0\n",
      "\n",
      "Expression Level: ENST00000461467.1\n",
      " id: WyIxa2dlbm9tZXMiLCJFLUdFVVYtMSAxMDAwIEdlbm9tZXMgUk5BIFF1YW50aWZpY2F0aW9uIiwiSEcwMDEwNCIsImY5MmUwN2IzLTM4YzAtNGI3MS05YTA2LTQyYjk2ZTA4YWFlNiJd\n",
      " feature: WyIxa2dlbm9tZXMiLCJnZW5jb2RlX3YyNGxpZnQzNyIsIjE0MDUwOTE3MjE5OTMxMiJd\n",
      " expression: 1.92349 TPM\n",
      " read_count: 15.7391\n",
      " confidence_interval: 0.0 - 0.0\n",
      "\n",
      "Expression Level: ENST00000466430.5\n",
      " id: WyIxa2dlbm9tZXMiLCJFLUdFVVYtMSAxMDAwIEdlbm9tZXMgUk5BIFF1YW50aWZpY2F0aW9uIiwiSEcwMDEwNCIsIjhhYTY5NmMyLWE4MDktNGM0MS1iMmUwLTljNGU3YTRhZTRmZSJd\n",
      " feature: WyIxa2dlbm9tZXMiLCJnZW5jb2RlX3YyNGxpZnQzNyIsIjE0MDUwOTE3MjM1NDE5MiJd\n",
      " expression: 0.695846 TPM\n",
      " read_count: 36.7243\n",
      " confidence_interval: 0.0 - 0.0\n",
      "\n",
      "Expression Level: ENST00000495576.1\n",
      " id: WyIxa2dlbm9tZXMiLCJFLUdFVVYtMSAxMDAwIEdlbm9tZXMgUk5BIFF1YW50aWZpY2F0aW9uIiwiSEcwMDEwNCIsImI5ODhkZTYyLTkxZDctNGUwZC04Zjk5LTYzZWExMGU5NDc2YSJd\n",
      " feature: WyIxa2dlbm9tZXMiLCJnZW5jb2RlX3YyNGxpZnQzNyIsIjE0MDUwOTE3MTk1MzA0MCJd\n",
      " expression: 0.00767201 TPM\n",
      " read_count: 0.178346\n",
      " confidence_interval: 0.0 - 0.0\n",
      "\n",
      "Expression Level: ENST00000493797.1\n",
      " id: WyIxa2dlbm9tZXMiLCJFLUdFVVYtMSAxMDAwIEdlbm9tZXMgUk5BIFF1YW50aWZpY2F0aW9uIiwiSEcwMDEwNCIsImE3OTdlYmRkLWYxZWUtNDY4Mi1hNzlmLTUxZjkwNjVmYjAwNyJd\n",
      " feature: WyIxa2dlbm9tZXMiLCJnZW5jb2RlX3YyNGxpZnQzNyIsIjE0MDUwOTE3MjA4NjU0NCJd\n",
      " expression: 0.854432 TPM\n",
      " read_count: 2.34793\n",
      " confidence_interval: 0.0 - 0.0\n",
      "\n"
     ]
    }
   ],
   "source": [
    "def getUnits(unitType):\n",
    "    units = [\"\", \"FPKM\", \"TPM\"]\n",
    "    return units[unitType]\n",
    "\n",
    "\n",
    "counter = 0\n",
    "for expression in c.search_expression_levels(\n",
    "        rna_quantification_id=rna_quantification_ids[0]):\n",
    "    if counter > 5:\n",
    "        break\n",
    "    counter += 1\n",
    "    print(\"Expression Level: {}\".format(expression.name))\n",
    "    print(\" id: {}\".format(expression.id))\n",
    "    print(\" feature: {}\".format(expression.feature_id))\n",
    "    print(\" expression: {} {}\".format(expression.expression, getUnits(expression.units)))\n",
    "    print(\" read_count: {}\".format(expression.raw_read_count))\n",
    "    print(\" confidence_interval: {} - {}\\n\".format(\n",
    "            expression.conf_interval_low, expression.conf_interval_high))"
   ]
  },
  {
   "cell_type": "markdown",
   "metadata": {},
   "source": [
    "It is also possible to restrict the search to a specific feature or to request expression values exceeding a threshold amount."
   ]
  },
  {
   "cell_type": "code",
   "execution_count": 9,
   "metadata": {
    "collapsed": false
   },
   "outputs": [
    {
     "name": "stdout",
     "output_type": "stream",
     "text": [
      "Expression Level: ENST00000619216.1\n",
      " id: WyIxa2dlbm9tZXMiLCJFLUdFVVYtMSAxMDAwIEdlbm9tZXMgUk5BIFF1YW50aWZpY2F0aW9uIiwiSEcwMDEwNCIsIjMyMTVmN2Q4LTUzZGQtNGQ1NS04MjE1LWRmZTkzMDJhMGQwYiJd\n",
      " feature: \n",
      "\n",
      "Expression Level: ENST00000469289.1\n",
      " id: WyIxa2dlbm9tZXMiLCJFLUdFVVYtMSAxMDAwIEdlbm9tZXMgUk5BIFF1YW50aWZpY2F0aW9uIiwiSEcwMDEwNCIsIjVhMGQ2ODhiLTQzMjAtNGNiMy1iZDc5LTQ3OTBiZDYyOTVlOCJd\n",
      " feature: WyIxa2dlbm9tZXMiLCJnZW5jb2RlX3YyNGxpZnQzNyIsIjE0MDUwOTE3MjE5NzkwNCJd\n",
      "\n",
      "Expression Level: ENST00000461467.1\n",
      " id: WyIxa2dlbm9tZXMiLCJFLUdFVVYtMSAxMDAwIEdlbm9tZXMgUk5BIFF1YW50aWZpY2F0aW9uIiwiSEcwMDEwNCIsImY5MmUwN2IzLTM4YzAtNGI3MS05YTA2LTQyYjk2ZTA4YWFlNiJd\n",
      " feature: WyIxa2dlbm9tZXMiLCJnZW5jb2RlX3YyNGxpZnQzNyIsIjE0MDUwOTE3MjE5OTMxMiJd\n",
      "\n",
      "Expression Level: ENST00000466430.5\n",
      " id: WyIxa2dlbm9tZXMiLCJFLUdFVVYtMSAxMDAwIEdlbm9tZXMgUk5BIFF1YW50aWZpY2F0aW9uIiwiSEcwMDEwNCIsIjhhYTY5NmMyLWE4MDktNGM0MS1iMmUwLTljNGU3YTRhZTRmZSJd\n",
      " feature: WyIxa2dlbm9tZXMiLCJnZW5jb2RlX3YyNGxpZnQzNyIsIjE0MDUwOTE3MjM1NDE5MiJd\n",
      "\n",
      "Expression Level: ENST00000495576.1\n",
      " id: WyIxa2dlbm9tZXMiLCJFLUdFVVYtMSAxMDAwIEdlbm9tZXMgUk5BIFF1YW50aWZpY2F0aW9uIiwiSEcwMDEwNCIsImI5ODhkZTYyLTkxZDctNGUwZC04Zjk5LTYzZWExMGU5NDc2YSJd\n",
      " feature: WyIxa2dlbm9tZXMiLCJnZW5jb2RlX3YyNGxpZnQzNyIsIjE0MDUwOTE3MTk1MzA0MCJd\n",
      "\n",
      "Expression Level: ENST00000493797.1\n",
      " id: WyIxa2dlbm9tZXMiLCJFLUdFVVYtMSAxMDAwIEdlbm9tZXMgUk5BIFF1YW50aWZpY2F0aW9uIiwiSEcwMDEwNCIsImE3OTdlYmRkLWYxZWUtNDY4Mi1hNzlmLTUxZjkwNjVmYjAwNyJd\n",
      " feature: WyIxa2dlbm9tZXMiLCJnZW5jb2RlX3YyNGxpZnQzNyIsIjE0MDUwOTE3MjA4NjU0NCJd\n",
      "\n"
     ]
    }
   ],
   "source": [
    "counter = 0\n",
    "for expression in c.search_expression_levels(\n",
    "        rna_quantification_id=rna_quantification_ids[0], feature_ids=[]):\n",
    "    if counter > 5:\n",
    "        break\n",
    "    counter += 1\n",
    "    print(\"Expression Level: {}\".format(expression.name))\n",
    "    print(\" id: {}\".format(expression.id))\n",
    "    print(\" feature: {}\\n\".format(expression.feature_id))"
   ]
  },
  {
   "cell_type": "markdown",
   "metadata": {},
   "source": [
    "Let's look for some high expressing features."
   ]
  },
  {
   "cell_type": "code",
   "execution_count": 10,
   "metadata": {
    "collapsed": false
   },
   "outputs": [
    {
     "name": "stdout",
     "output_type": "stream",
     "text": [
      "Expression Level: ENST00000234590.8\n",
      " id: WyIxa2dlbm9tZXMiLCJFLUdFVVYtMSAxMDAwIEdlbm9tZXMgUk5BIFF1YW50aWZpY2F0aW9uIiwiSEcwMDEwNCIsIjA3YjM1YjRhLWYwOGQtNDVlMy04ODIyLTc0ODkzYWU5MjI5MSJd\n",
      " expression: 2138.07 TPM\n",
      "\n",
      "Expression Level: ENST00000374550.7\n",
      " id: WyIxa2dlbm9tZXMiLCJFLUdFVVYtMSAxMDAwIEdlbm9tZXMgUk5BIFF1YW50aWZpY2F0aW9uIiwiSEcwMDEwNCIsImZhNzhkOGM0LTMxYmMtNDkwYi1iMzMxLTRlZDNmOTA2NzAzYyJd\n",
      " expression: 3041.09 TPM\n",
      "\n",
      "Expression Level: ENST00000396651.7\n",
      " id: WyIxa2dlbm9tZXMiLCJFLUdFVVYtMSAxMDAwIEdlbm9tZXMgUk5BIFF1YW50aWZpY2F0aW9uIiwiSEcwMDEwNCIsIjFkOGUwNzBmLThhMzYtNGE1Ni04NjI4LTg1ODY5MWRkOTRlNSJd\n",
      " expression: 2408.85 TPM\n",
      "\n",
      "Expression Level: ENST00000370321.7\n",
      " id: WyIxa2dlbm9tZXMiLCJFLUdFVVYtMSAxMDAwIEdlbm9tZXMgUk5BIFF1YW50aWZpY2F0aW9uIiwiSEcwMDEwNCIsIjBjNjUwODlhLTk2ZmUtNDAwZS1hMWJlLWY3YjZlMTg1MmU5NyJd\n",
      " expression: 1938.45 TPM\n",
      "\n",
      "Expression Level: ENST00000368567.4\n",
      " id: WyIxa2dlbm9tZXMiLCJFLUdFVVYtMSAxMDAwIEdlbm9tZXMgUk5BIFF1YW50aWZpY2F0aW9uIiwiSEcwMDEwNCIsImI1YTlkOGUzLWY2ZDYtNGRhNS05OGI4LTYzOTFiOTZlYzk4OSJd\n",
      " expression: 6161.73 TPM\n",
      "\n",
      "Expression Level: ENST00000242465.3\n",
      " id: WyIxa2dlbm9tZXMiLCJFLUdFVVYtMSAxMDAwIEdlbm9tZXMgUk5BIFF1YW50aWZpY2F0aW9uIiwiSEcwMDEwNCIsIjJjYzgwODViLTVkZDAtNGY4NS05MWVhLTM4OWMxYzM1Y2M5YSJd\n",
      " expression: 1192.52 TPM\n",
      "\n"
     ]
    }
   ],
   "source": [
    "counter = 0\n",
    "for expression in c.search_expression_levels(\n",
    "        rna_quantification_id=rna_quantification_ids[0], threshold=1000):\n",
    "    if counter > 5:\n",
    "        break\n",
    "    counter += 1\n",
    "    print(\"Expression Level: {}\".format(expression.name))\n",
    "    print(\" id: {}\".format(expression.id))\n",
    "    print(\" expression: {} {}\\n\".format(expression.expression, getUnits(expression.units)))"
   ]
  },
  {
   "cell_type": "code",
   "execution_count": null,
   "metadata": {
    "collapsed": true
   },
   "outputs": [],
   "source": []
  }
 ],
 "metadata": {
  "anaconda-cloud": {},
  "kernelspec": {
   "display_name": "Python 2",
   "language": "python",
   "name": "python2"
  },
  "language_info": {
   "codemirror_mode": {
    "name": "ipython",
    "version": 2
   },
   "file_extension": ".py",
   "mimetype": "text/x-python",
   "name": "python",
   "nbconvert_exporter": "python",
   "pygments_lexer": "ipython2",
   "version": "2.7.10"
  }
 },
 "nbformat": 4,
 "nbformat_minor": 1
}
